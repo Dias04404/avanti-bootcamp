{
 "cells": [
  {
   "cell_type": "markdown",
   "metadata": {},
   "source": [
    "# Análise exploratória de dados"
   ]
  },
  {
   "cell_type": "markdown",
   "metadata": {
    "jp-MarkdownHeadingCollapsed": true
   },
   "source": [
    "informações sobre a quantidade de instâncias, variáveis e seus tipos, quantidade de valores faltantes. Utilize o dicionário de dados nessa seção."
   ]
  },
  {
   "cell_type": "markdown",
   "metadata": {},
   "source": [
    "## 1. Descrição dos dados"
   ]
  },
  {
   "cell_type": "code",
   "execution_count": null,
   "metadata": {},
   "outputs": [],
   "source": [
    "\n",
    "Variáveis: 15 variáveis,\n",
    "           9 qualitativas e 6 quantitativas.\n",
    "\n",
    "               \n",
    "Dados Faltantes:  Idade, \n",
    "\n",
    "\n",
    "Dicionários de Dados:\n",
    "        \"variavel\": \"survived\",\n",
    "        \"descrição\": \"Se a pessoa sobreviveu ou não\",\n",
    "        \"tipo\": \"qualitativo\",\n",
    "        \"subtipo\": \"nominal\",\n",
    "    \n",
    "        \"variavel\": \"pclass\",\n",
    "        \"descrição\": \"CLasse da passagem (1,2,3)\",\n",
    "        \"tipo\": \"qualitativo\",\n",
    "        \"subtipo\": \"ordinal\",\n",
    "\n",
    "        \"variavel\": \"sex\",\n",
    "        \"descrição\": \"Gênero do passageiro\",\n",
    "        \"tipo\": \"qualitativo\",\n",
    "        \"subtipo\": \"nominal\",\n",
    " \n",
    "        \"variavel\": \"age\",\n",
    "        \"descrição\": \"Idade do passageiro\",\n",
    "        \"tipo\": \"quantitativo\",\n",
    "        \"subtipo\": \"contínua\",\n",
    "\n",
    "        \"variavel\": \"sibsp\",\n",
    "        \"descrição\": \"Se o passageiro possui irmãos/cônjuges a bordo\",\n",
    "        \"tipo\": \"quantitativo\",\n",
    "        \"subtipo\": \"discreto\",\n",
    "  \n",
    "        \"variavel\": \"parch\",\n",
    "        \"descrição\": \"Se o passageiro possui pais/filhos a bordo\",\n",
    "        \"tipo\": \"quantitativo\",\n",
    "        \"subtipo\": \"discreto\",\n",
    "    \n",
    "        \"variavel\": \"fare\",\n",
    "        \"descrição\": \"Valor da passagem\",\n",
    "        \"tipo\": \"quantitativo\",\n",
    "        \"subtipo\": \"contínuo\",\n",
    " \n",
    "        \"variavel\": \"embarked\",\n",
    "        \"descrição\": \"Porto de embarque (C, Q, S)\",\n",
    "        \"tipo\": \"qualitativo\",\n",
    "        \"subtipo\": \"nominal\",\n",
    "   \n",
    "        \"variavel\": \"class\",\n",
    "        \"descrição\": \"Classe do passageiro (1,2,3)\",\n",
    "        \"tipo\": \"qualitativo\",\n",
    "        \"subtipo\": \"ordinal\",\n",
    "  \n",
    "        \"variavel\": \"who\",\n",
    "        \"descrição\": \"Classificação do passageiro\",\n",
    "        \"tipo\": \"qualitativo\",\n",
    "        \"subtipo\": \"nominal\",\n",
    "  \n",
    "        \"variavel\": \"adult_male\",\n",
    "        \"descrição\": \"Se é um homem adulto\",\n",
    "        \"tipo\": \"qualitativo\",\n",
    "        \"subtipo\": \"nominal\",\n",
    "  \n",
    "        \"variavel\": \"deck\",\n",
    "        \"descrição\": \"Qual deck o passageiro está hospedado\",\n",
    "        \"tipo\": \"quantitativo\",\n",
    "        \"subtipo\": \"discreto\",\n",
    "   \n",
    "        \"variavel\": \"embark_town\",\n",
    "        \"descrição\": \"Cidade de embarque\",\n",
    "        \"tipo\": \"qualitativo\",\n",
    "        \"subtipo\": \"nominal\",\n",
    "   \n",
    "        \"variavel\": \"alive\",\n",
    "        \"descrição\": \"Se a pessoa sobreviveu ou não\",\n",
    "        \"tipo\": \"qualitativo\",\n",
    "        \"subtipo\": \"nominal\",\n",
    "  \n",
    "        \"variavel\": \"alone\",\n",
    "        \"descrição\": \"Se a pessoa está só ou não\",\n",
    "        \"tipo\": \"qualitativo\",\n",
    "        \"subtipo\": \"nominal\",\n",
    " "
   ]
  },
  {
   "cell_type": "markdown",
   "metadata": {},
   "source": [
    "## 2. Perguntas de partida e hipóteses"
   ]
  },
  {
   "cell_type": "code",
   "execution_count": null,
   "metadata": {},
   "outputs": [],
   "source": [
    "Ao observar brevemente podemos levantar algumas perguntas de partida como:\n",
    "\n",
    "Existe uma relação entre a classe da passagem e a sobrevivência dos passsageiros?\n",
    "Os passageiros viajando sozinho tiveram maior taxa de sobrevivência?\n",
    "Qual cidade pagou mais barato no ticket de viagem?\n",
    "Quais fatores influenciaram o valor da passagem?\n"
   ]
  },
  {
   "cell_type": "markdown",
   "metadata": {},
   "source": [
    "## 3. Insights"
   ]
  },
  {
   "cell_type": "code",
   "execution_count": null,
   "metadata": {},
   "outputs": [],
   "source": [
    "Já que existem muitos dados faltantes em relação a 'age' e 'deck', hipóteses se baseando nesses parâmetros se tornam pouco eficazes.\n",
    "\n",
    "Ao analisarmos os dados no DataFrame podemos perceber uma relação entre o preço da passagem ('fare'), classe do passageiro, cidade de origem e gênero (os homens pagam mais)\n"
   ]
  }
 ],
 "metadata": {
  "kernelspec": {
   "display_name": "Python 3 (ipykernel)",
   "language": "python",
   "name": "python3"
  },
  "language_info": {
   "codemirror_mode": {
    "name": "ipython",
    "version": 3
   },
   "file_extension": ".py",
   "mimetype": "text/x-python",
   "name": "python",
   "nbconvert_exporter": "python",
   "pygments_lexer": "ipython3",
   "version": "3.10.12"
  },
  "vscode": {
   "interpreter": {
    "hash": "eb3c3305d8b111f0102f4f519c5f17abd113fe74db6752c355e994a9008815ef"
   }
  }
 },
 "nbformat": 4,
 "nbformat_minor": 4
}
